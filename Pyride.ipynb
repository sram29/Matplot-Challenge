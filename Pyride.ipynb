{
 "cells": [
  {
   "cell_type": "code",
   "execution_count": 1,
   "metadata": {},
   "outputs": [
    {
     "ename": "SyntaxError",
     "evalue": "invalid syntax (<ipython-input-1-804d171f9a9d>, line 1)",
     "output_type": "error",
     "traceback": [
      "\u001b[0;36m  File \u001b[0;32m\"<ipython-input-1-804d171f9a9d>\"\u001b[0;36m, line \u001b[0;32m1\u001b[0m\n\u001b[0;31m    Observed Trend 1: The total rides, drivers, and fares are the highest in the Urban areas\u001b[0m\n\u001b[0m                 ^\u001b[0m\n\u001b[0;31mSyntaxError\u001b[0m\u001b[0;31m:\u001b[0m invalid syntax\n"
     ]
    }
   ],
   "source": [
    "Observed Trend 1: The total rides, drivers, and fares are the highest in the Urban areas\n",
    "Observed Trend 2: The average fare is pretty close in the Suburban and Rural areas\n",
    "Observed Trend 3: The % of drivers in the Suburban areas are increasing which would eventually lead to the increase in the total number rides and fares"
   ]
  },
  {
   "cell_type": "code",
   "execution_count": 2,
   "metadata": {
    "collapsed": true
   },
   "outputs": [],
   "source": [
    "import os\n",
    "import pandas as pd\n",
    "import matplotlib.pyplot as plt\n",
    "import numpy as np"
   ]
  },
  {
   "cell_type": "code",
   "execution_count": 3,
   "metadata": {},
   "outputs": [
    {
     "data": {
      "text/html": [
       "<div>\n",
       "<style>\n",
       "    .dataframe thead tr:only-child th {\n",
       "        text-align: right;\n",
       "    }\n",
       "\n",
       "    .dataframe thead th {\n",
       "        text-align: left;\n",
       "    }\n",
       "\n",
       "    .dataframe tbody tr th {\n",
       "        vertical-align: top;\n",
       "    }\n",
       "</style>\n",
       "<table border=\"1\" class=\"dataframe\">\n",
       "  <thead>\n",
       "    <tr style=\"text-align: right;\">\n",
       "      <th></th>\n",
       "      <th>city</th>\n",
       "      <th>driver_count</th>\n",
       "      <th>type</th>\n",
       "    </tr>\n",
       "  </thead>\n",
       "  <tbody>\n",
       "    <tr>\n",
       "      <th>0</th>\n",
       "      <td>Kelseyland</td>\n",
       "      <td>63</td>\n",
       "      <td>Urban</td>\n",
       "    </tr>\n",
       "    <tr>\n",
       "      <th>1</th>\n",
       "      <td>Nguyenbury</td>\n",
       "      <td>8</td>\n",
       "      <td>Urban</td>\n",
       "    </tr>\n",
       "    <tr>\n",
       "      <th>2</th>\n",
       "      <td>East Douglas</td>\n",
       "      <td>12</td>\n",
       "      <td>Urban</td>\n",
       "    </tr>\n",
       "    <tr>\n",
       "      <th>3</th>\n",
       "      <td>West Dawnfurt</td>\n",
       "      <td>34</td>\n",
       "      <td>Urban</td>\n",
       "    </tr>\n",
       "    <tr>\n",
       "      <th>4</th>\n",
       "      <td>Rodriguezburgh</td>\n",
       "      <td>52</td>\n",
       "      <td>Urban</td>\n",
       "    </tr>\n",
       "  </tbody>\n",
       "</table>\n",
       "</div>"
      ],
      "text/plain": [
       "             city  driver_count   type\n",
       "0      Kelseyland            63  Urban\n",
       "1      Nguyenbury             8  Urban\n",
       "2    East Douglas            12  Urban\n",
       "3   West Dawnfurt            34  Urban\n",
       "4  Rodriguezburgh            52  Urban"
      ]
     },
     "execution_count": 3,
     "metadata": {},
     "output_type": "execute_result"
    }
   ],
   "source": [
    "csvpath = os.path.join('..', 'city_data.csv')\n",
    "city_data = pd.read_csv(csvpath)\n",
    "city_data.head()"
   ]
  },
  {
   "cell_type": "code",
   "execution_count": 4,
   "metadata": {},
   "outputs": [
    {
     "data": {
      "text/html": [
       "<div>\n",
       "<style>\n",
       "    .dataframe thead tr:only-child th {\n",
       "        text-align: right;\n",
       "    }\n",
       "\n",
       "    .dataframe thead th {\n",
       "        text-align: left;\n",
       "    }\n",
       "\n",
       "    .dataframe tbody tr th {\n",
       "        vertical-align: top;\n",
       "    }\n",
       "</style>\n",
       "<table border=\"1\" class=\"dataframe\">\n",
       "  <thead>\n",
       "    <tr style=\"text-align: right;\">\n",
       "      <th></th>\n",
       "      <th>city</th>\n",
       "      <th>date</th>\n",
       "      <th>fare</th>\n",
       "      <th>ride_id</th>\n",
       "    </tr>\n",
       "  </thead>\n",
       "  <tbody>\n",
       "    <tr>\n",
       "      <th>0</th>\n",
       "      <td>Sarabury</td>\n",
       "      <td>1/16/16 13:49</td>\n",
       "      <td>38.35</td>\n",
       "      <td>5.403690e+12</td>\n",
       "    </tr>\n",
       "    <tr>\n",
       "      <th>1</th>\n",
       "      <td>South Roy</td>\n",
       "      <td>1/2/16 18:42</td>\n",
       "      <td>17.49</td>\n",
       "      <td>4.036270e+12</td>\n",
       "    </tr>\n",
       "    <tr>\n",
       "      <th>2</th>\n",
       "      <td>Wiseborough</td>\n",
       "      <td>1/21/16 17:35</td>\n",
       "      <td>44.18</td>\n",
       "      <td>3.645040e+12</td>\n",
       "    </tr>\n",
       "    <tr>\n",
       "      <th>3</th>\n",
       "      <td>Spencertown</td>\n",
       "      <td>7/31/16 14:53</td>\n",
       "      <td>6.87</td>\n",
       "      <td>2.242600e+12</td>\n",
       "    </tr>\n",
       "    <tr>\n",
       "      <th>4</th>\n",
       "      <td>Nguyenbury</td>\n",
       "      <td>7/9/16 4:42</td>\n",
       "      <td>6.28</td>\n",
       "      <td>1.543060e+12</td>\n",
       "    </tr>\n",
       "  </tbody>\n",
       "</table>\n",
       "</div>"
      ],
      "text/plain": [
       "          city           date   fare       ride_id\n",
       "0     Sarabury  1/16/16 13:49  38.35  5.403690e+12\n",
       "1    South Roy   1/2/16 18:42  17.49  4.036270e+12\n",
       "2  Wiseborough  1/21/16 17:35  44.18  3.645040e+12\n",
       "3  Spencertown  7/31/16 14:53   6.87  2.242600e+12\n",
       "4   Nguyenbury    7/9/16 4:42   6.28  1.543060e+12"
      ]
     },
     "execution_count": 4,
     "metadata": {},
     "output_type": "execute_result"
    }
   ],
   "source": [
    "csvpath1 = os.path.join('..', 'ride_data.csv')\n",
    "ride_data = pd.read_csv(csvpath1)\n",
    "ride_data.head()"
   ]
  },
  {
   "cell_type": "code",
   "execution_count": 5,
   "metadata": {},
   "outputs": [
    {
     "data": {
      "text/html": [
       "<div>\n",
       "<style>\n",
       "    .dataframe thead tr:only-child th {\n",
       "        text-align: right;\n",
       "    }\n",
       "\n",
       "    .dataframe thead th {\n",
       "        text-align: left;\n",
       "    }\n",
       "\n",
       "    .dataframe tbody tr th {\n",
       "        vertical-align: top;\n",
       "    }\n",
       "</style>\n",
       "<table border=\"1\" class=\"dataframe\">\n",
       "  <thead>\n",
       "    <tr style=\"text-align: right;\">\n",
       "      <th></th>\n",
       "      <th>city</th>\n",
       "      <th>date</th>\n",
       "      <th>fare</th>\n",
       "      <th>ride_id</th>\n",
       "      <th>driver_count</th>\n",
       "      <th>type</th>\n",
       "    </tr>\n",
       "  </thead>\n",
       "  <tbody>\n",
       "    <tr>\n",
       "      <th>0</th>\n",
       "      <td>Sarabury</td>\n",
       "      <td>1/16/16 13:49</td>\n",
       "      <td>38.35</td>\n",
       "      <td>5.403690e+12</td>\n",
       "      <td>46</td>\n",
       "      <td>Urban</td>\n",
       "    </tr>\n",
       "    <tr>\n",
       "      <th>1</th>\n",
       "      <td>Sarabury</td>\n",
       "      <td>7/23/16 7:42</td>\n",
       "      <td>21.76</td>\n",
       "      <td>7.546680e+12</td>\n",
       "      <td>46</td>\n",
       "      <td>Urban</td>\n",
       "    </tr>\n",
       "    <tr>\n",
       "      <th>2</th>\n",
       "      <td>Sarabury</td>\n",
       "      <td>4/2/16 4:32</td>\n",
       "      <td>38.03</td>\n",
       "      <td>4.932500e+12</td>\n",
       "      <td>46</td>\n",
       "      <td>Urban</td>\n",
       "    </tr>\n",
       "    <tr>\n",
       "      <th>3</th>\n",
       "      <td>Sarabury</td>\n",
       "      <td>6/23/16 5:03</td>\n",
       "      <td>26.82</td>\n",
       "      <td>6.711040e+12</td>\n",
       "      <td>46</td>\n",
       "      <td>Urban</td>\n",
       "    </tr>\n",
       "    <tr>\n",
       "      <th>4</th>\n",
       "      <td>Sarabury</td>\n",
       "      <td>9/30/16 12:48</td>\n",
       "      <td>30.30</td>\n",
       "      <td>6.388740e+12</td>\n",
       "      <td>46</td>\n",
       "      <td>Urban</td>\n",
       "    </tr>\n",
       "  </tbody>\n",
       "</table>\n",
       "</div>"
      ],
      "text/plain": [
       "       city           date   fare       ride_id  driver_count   type\n",
       "0  Sarabury  1/16/16 13:49  38.35  5.403690e+12            46  Urban\n",
       "1  Sarabury   7/23/16 7:42  21.76  7.546680e+12            46  Urban\n",
       "2  Sarabury    4/2/16 4:32  38.03  4.932500e+12            46  Urban\n",
       "3  Sarabury   6/23/16 5:03  26.82  6.711040e+12            46  Urban\n",
       "4  Sarabury  9/30/16 12:48  30.30  6.388740e+12            46  Urban"
      ]
     },
     "execution_count": 5,
     "metadata": {},
     "output_type": "execute_result"
    }
   ],
   "source": [
    "merge_data = pd.merge(ride_data, city_data, on = 'city', how = 'outer')\n",
    "#merge_data = merge_data.set_index(\"type\")\n",
    "merge_data.head()"
   ]
  },
  {
   "cell_type": "code",
   "execution_count": 6,
   "metadata": {},
   "outputs": [
    {
     "name": "stdout",
     "output_type": "stream",
     "text": [
      "city            SaraburySaraburySaraburySaraburySaraburySarabu...\n",
      "date            1/16/16 13:497/23/16 7:424/2/16 4:326/23/16 5:...\n",
      "fare                                                      40078.3\n",
      "ride_id                                               7.89019e+15\n",
      "driver_count                                                64501\n",
      "type            UrbanUrbanUrbanUrbanUrbanUrbanUrbanUrbanUrbanU...\n",
      "dtype: object\n",
      "city            Port JamesPort JamesPort JamesPort JamesPort J...\n",
      "date            12/4/16 6:1612/4/16 6:165/16/16 21:255/16/16 2...\n",
      "fare                                                      20335.7\n",
      "ride_id                                               3.13958e+15\n",
      "driver_count                                                 9730\n",
      "type            SuburbanSuburbanSuburbanSuburbanSuburbanSuburb...\n",
      "dtype: object\n",
      "city            HornelandHornelandHornelandHornelandKinghavenK...\n",
      "date            7/19/16 10:073/22/16 21:221/26/16 9:383/25/16 ...\n",
      "fare                                                      4255.09\n",
      "ride_id                                               6.58729e+14\n",
      "driver_count                                                  727\n",
      "type            RuralRuralRuralRuralRuralRuralRuralRuralRuralR...\n",
      "dtype: object\n"
     ]
    }
   ],
   "source": [
    "scatter_urban_data = merge_data[merge_data['type'] == 'Urban']\n",
    "scatter_suburban_data = merge_data[merge_data['type'] == 'Suburban']\n",
    "scatter_rural_data = merge_data[merge_data['type'] == 'Rural']\n",
    "scatter_urban_data = scatter_urban_data.sum()\n",
    "scatter_suburban_data = scatter_suburban_data.sum()\n",
    "scatter_rural_data = scatter_rural_data.sum()\n",
    "print(scatter_urban_data)\n",
    "print(scatter_suburban_data)\n",
    "print(scatter_rural_data)\n"
   ]
  },
  {
   "cell_type": "code",
   "execution_count": null,
   "metadata": {
    "collapsed": true
   },
   "outputs": [],
   "source": []
  },
  {
   "cell_type": "code",
   "execution_count": 7,
   "metadata": {},
   "outputs": [
    {
     "data": {
      "text/html": [
       "<div>\n",
       "<style>\n",
       "    .dataframe thead tr:only-child th {\n",
       "        text-align: right;\n",
       "    }\n",
       "\n",
       "    .dataframe thead th {\n",
       "        text-align: left;\n",
       "    }\n",
       "\n",
       "    .dataframe tbody tr th {\n",
       "        vertical-align: top;\n",
       "    }\n",
       "</style>\n",
       "<table border=\"1\" class=\"dataframe\">\n",
       "  <thead>\n",
       "    <tr style=\"text-align: right;\">\n",
       "      <th></th>\n",
       "      <th></th>\n",
       "      <th>type</th>\n",
       "      <th>sum</th>\n",
       "      <th>count</th>\n",
       "    </tr>\n",
       "    <tr>\n",
       "      <th>city</th>\n",
       "      <th>driver_count</th>\n",
       "      <th></th>\n",
       "      <th></th>\n",
       "      <th></th>\n",
       "    </tr>\n",
       "  </thead>\n",
       "  <tbody>\n",
       "    <tr>\n",
       "      <th>Alvarezhaven</th>\n",
       "      <th>21</th>\n",
       "      <td>Urban</td>\n",
       "      <td>741.79</td>\n",
       "      <td>31</td>\n",
       "    </tr>\n",
       "    <tr>\n",
       "      <th>Alyssaberg</th>\n",
       "      <th>67</th>\n",
       "      <td>Urban</td>\n",
       "      <td>535.85</td>\n",
       "      <td>26</td>\n",
       "    </tr>\n",
       "    <tr>\n",
       "      <th>Anitamouth</th>\n",
       "      <th>16</th>\n",
       "      <td>Suburban</td>\n",
       "      <td>335.84</td>\n",
       "      <td>9</td>\n",
       "    </tr>\n",
       "    <tr>\n",
       "      <th>Antoniomouth</th>\n",
       "      <th>21</th>\n",
       "      <td>Urban</td>\n",
       "      <td>519.75</td>\n",
       "      <td>22</td>\n",
       "    </tr>\n",
       "    <tr>\n",
       "      <th>Aprilchester</th>\n",
       "      <th>49</th>\n",
       "      <td>Urban</td>\n",
       "      <td>417.65</td>\n",
       "      <td>19</td>\n",
       "    </tr>\n",
       "  </tbody>\n",
       "</table>\n",
       "</div>"
      ],
      "text/plain": [
       "                               type     sum  count\n",
       "city         driver_count                         \n",
       "Alvarezhaven 21               Urban  741.79     31\n",
       "Alyssaberg   67               Urban  535.85     26\n",
       "Anitamouth   16            Suburban  335.84      9\n",
       "Antoniomouth 21               Urban  519.75     22\n",
       "Aprilchester 49               Urban  417.65     19"
      ]
     },
     "execution_count": 7,
     "metadata": {},
     "output_type": "execute_result"
    }
   ],
   "source": [
    "#average city ride fare\n",
    "city_fare = merge_data.groupby(['city', 'type', 'driver_count'])\n",
    "# urban_fare = merge_data.loc[['Urban'],['city','fare','driver_count']]\n",
    "# urban_fare['Average Fare'] = urban_fare['fare'].mean()\n",
    "# urban_fare['Total number of Rides'] = urban_fare['fare'].count()\n",
    "\n",
    "# city_fare_agg = pd.DataFrame(city_fare)\n",
    "city_fare_agg = city_fare['fare'].agg(['sum','count']).reset_index(level=1)\n",
    "#urban_city = urban_fare.groupby(['type', 'city'])\n",
    "#city_fare_agg = city_fare_agg.rename(columns={\"count\": \"Total\", \"type\": \"ciyt_type\"})\n",
    "# # city_fare = city_fare[\"Total\"]\n",
    "#city_fare_agg.head()\n",
    "#city_fare_agg.head()\n",
    "city_fare_agg.head()\n"
   ]
  },
  {
   "cell_type": "code",
   "execution_count": 8,
   "metadata": {},
   "outputs": [
    {
     "data": {
      "text/html": [
       "<div>\n",
       "<style>\n",
       "    .dataframe thead tr:only-child th {\n",
       "        text-align: right;\n",
       "    }\n",
       "\n",
       "    .dataframe thead th {\n",
       "        text-align: left;\n",
       "    }\n",
       "\n",
       "    .dataframe tbody tr th {\n",
       "        vertical-align: top;\n",
       "    }\n",
       "</style>\n",
       "<table border=\"1\" class=\"dataframe\">\n",
       "  <thead>\n",
       "    <tr style=\"text-align: right;\">\n",
       "      <th></th>\n",
       "      <th></th>\n",
       "      <th>FareTotal</th>\n",
       "      <th>Ridecount</th>\n",
       "      <th>AverageFare</th>\n",
       "    </tr>\n",
       "    <tr>\n",
       "      <th>city</th>\n",
       "      <th>driver_count</th>\n",
       "      <th></th>\n",
       "      <th></th>\n",
       "      <th></th>\n",
       "    </tr>\n",
       "  </thead>\n",
       "  <tbody>\n",
       "    <tr>\n",
       "      <th>Alvarezhaven</th>\n",
       "      <th>21</th>\n",
       "      <td>741.79</td>\n",
       "      <td>31</td>\n",
       "      <td>23.928710</td>\n",
       "    </tr>\n",
       "    <tr>\n",
       "      <th>Alyssaberg</th>\n",
       "      <th>67</th>\n",
       "      <td>535.85</td>\n",
       "      <td>26</td>\n",
       "      <td>20.609615</td>\n",
       "    </tr>\n",
       "    <tr>\n",
       "      <th>Antoniomouth</th>\n",
       "      <th>21</th>\n",
       "      <td>519.75</td>\n",
       "      <td>22</td>\n",
       "      <td>23.625000</td>\n",
       "    </tr>\n",
       "    <tr>\n",
       "      <th>Aprilchester</th>\n",
       "      <th>49</th>\n",
       "      <td>417.65</td>\n",
       "      <td>19</td>\n",
       "      <td>21.981579</td>\n",
       "    </tr>\n",
       "    <tr>\n",
       "      <th>Arnoldview</th>\n",
       "      <th>41</th>\n",
       "      <td>778.30</td>\n",
       "      <td>31</td>\n",
       "      <td>25.106452</td>\n",
       "    </tr>\n",
       "  </tbody>\n",
       "</table>\n",
       "</div>"
      ],
      "text/plain": [
       "                           FareTotal  Ridecount  AverageFare\n",
       "city         driver_count                                   \n",
       "Alvarezhaven 21               741.79         31    23.928710\n",
       "Alyssaberg   67               535.85         26    20.609615\n",
       "Antoniomouth 21               519.75         22    23.625000\n",
       "Aprilchester 49               417.65         19    21.981579\n",
       "Arnoldview   41               778.30         31    25.106452"
      ]
     },
     "execution_count": 8,
     "metadata": {},
     "output_type": "execute_result"
    }
   ],
   "source": [
    "city_fare_agg['Average'] = city_fare_agg['sum']/city_fare_agg['count']\n",
    "# city_fare_agg1 = city_fare_agg.set_index(\"type\")\n",
    "city_fare_agg1 = city_fare_agg.loc[city_fare_agg['type']== 'Urban', ['sum', 'count', 'Average']]\n",
    "city_fare_agg1 = city_fare_agg1.rename(columns={'sum': 'FareTotal', 'count': 'Ridecount', 'Average': 'AverageFare'})\n",
    "city_fare_agg1.head()"
   ]
  },
  {
   "cell_type": "code",
   "execution_count": 9,
   "metadata": {},
   "outputs": [
    {
     "data": {
      "text/html": [
       "<div>\n",
       "<style>\n",
       "    .dataframe thead tr:only-child th {\n",
       "        text-align: right;\n",
       "    }\n",
       "\n",
       "    .dataframe thead th {\n",
       "        text-align: left;\n",
       "    }\n",
       "\n",
       "    .dataframe tbody tr th {\n",
       "        vertical-align: top;\n",
       "    }\n",
       "</style>\n",
       "<table border=\"1\" class=\"dataframe\">\n",
       "  <thead>\n",
       "    <tr style=\"text-align: right;\">\n",
       "      <th></th>\n",
       "      <th>city</th>\n",
       "      <th>driver_count</th>\n",
       "      <th>FareTotal</th>\n",
       "      <th>Ridecount</th>\n",
       "      <th>AverageFare</th>\n",
       "    </tr>\n",
       "  </thead>\n",
       "  <tbody>\n",
       "    <tr>\n",
       "      <th>0</th>\n",
       "      <td>Alvarezhaven</td>\n",
       "      <td>21</td>\n",
       "      <td>741.79</td>\n",
       "      <td>31</td>\n",
       "      <td>23.928710</td>\n",
       "    </tr>\n",
       "    <tr>\n",
       "      <th>1</th>\n",
       "      <td>Alyssaberg</td>\n",
       "      <td>67</td>\n",
       "      <td>535.85</td>\n",
       "      <td>26</td>\n",
       "      <td>20.609615</td>\n",
       "    </tr>\n",
       "    <tr>\n",
       "      <th>2</th>\n",
       "      <td>Antoniomouth</td>\n",
       "      <td>21</td>\n",
       "      <td>519.75</td>\n",
       "      <td>22</td>\n",
       "      <td>23.625000</td>\n",
       "    </tr>\n",
       "    <tr>\n",
       "      <th>3</th>\n",
       "      <td>Aprilchester</td>\n",
       "      <td>49</td>\n",
       "      <td>417.65</td>\n",
       "      <td>19</td>\n",
       "      <td>21.981579</td>\n",
       "    </tr>\n",
       "    <tr>\n",
       "      <th>4</th>\n",
       "      <td>Arnoldview</td>\n",
       "      <td>41</td>\n",
       "      <td>778.30</td>\n",
       "      <td>31</td>\n",
       "      <td>25.106452</td>\n",
       "    </tr>\n",
       "  </tbody>\n",
       "</table>\n",
       "</div>"
      ],
      "text/plain": [
       "           city  driver_count  FareTotal  Ridecount  AverageFare\n",
       "0  Alvarezhaven            21     741.79         31    23.928710\n",
       "1    Alyssaberg            67     535.85         26    20.609615\n",
       "2  Antoniomouth            21     519.75         22    23.625000\n",
       "3  Aprilchester            49     417.65         19    21.981579\n",
       "4    Arnoldview            41     778.30         31    25.106452"
      ]
     },
     "execution_count": 9,
     "metadata": {},
     "output_type": "execute_result"
    }
   ],
   "source": [
    "sort_data = city_fare_agg1.reset_index()\n",
    "sort_data.head()"
   ]
  },
  {
   "cell_type": "code",
   "execution_count": 10,
   "metadata": {},
   "outputs": [
    {
     "data": {
      "text/plain": [
       "FareTotal      40078.34000\n",
       "Ridecount       1625.00000\n",
       "AverageFare     1623.86339\n",
       "dtype: float64"
      ]
     },
     "execution_count": 10,
     "metadata": {},
     "output_type": "execute_result"
    }
   ],
   "source": [
    "city_fare_agg_pie1 = city_fare_agg1.sum()\n",
    "city_fare_agg_pie1"
   ]
  },
  {
   "cell_type": "code",
   "execution_count": 11,
   "metadata": {},
   "outputs": [
    {
     "data": {
      "text/html": [
       "<div>\n",
       "<style>\n",
       "    .dataframe thead tr:only-child th {\n",
       "        text-align: right;\n",
       "    }\n",
       "\n",
       "    .dataframe thead th {\n",
       "        text-align: left;\n",
       "    }\n",
       "\n",
       "    .dataframe tbody tr th {\n",
       "        vertical-align: top;\n",
       "    }\n",
       "</style>\n",
       "<table border=\"1\" class=\"dataframe\">\n",
       "  <thead>\n",
       "    <tr style=\"text-align: right;\">\n",
       "      <th></th>\n",
       "      <th></th>\n",
       "      <th>FareTotal</th>\n",
       "      <th>Ridecount</th>\n",
       "      <th>AverageFare</th>\n",
       "    </tr>\n",
       "    <tr>\n",
       "      <th>city</th>\n",
       "      <th>driver_count</th>\n",
       "      <th></th>\n",
       "      <th></th>\n",
       "      <th></th>\n",
       "    </tr>\n",
       "  </thead>\n",
       "  <tbody>\n",
       "    <tr>\n",
       "      <th>Anitamouth</th>\n",
       "      <th>16</th>\n",
       "      <td>335.84</td>\n",
       "      <td>9</td>\n",
       "      <td>37.315556</td>\n",
       "    </tr>\n",
       "    <tr>\n",
       "      <th>Campbellport</th>\n",
       "      <th>26</th>\n",
       "      <td>505.67</td>\n",
       "      <td>15</td>\n",
       "      <td>33.711333</td>\n",
       "    </tr>\n",
       "    <tr>\n",
       "      <th>Carrollbury</th>\n",
       "      <th>4</th>\n",
       "      <td>366.06</td>\n",
       "      <td>10</td>\n",
       "      <td>36.606000</td>\n",
       "    </tr>\n",
       "    <tr>\n",
       "      <th>Clarkstad</th>\n",
       "      <th>21</th>\n",
       "      <td>372.62</td>\n",
       "      <td>12</td>\n",
       "      <td>31.051667</td>\n",
       "    </tr>\n",
       "    <tr>\n",
       "      <th>Conwaymouth</th>\n",
       "      <th>18</th>\n",
       "      <td>380.51</td>\n",
       "      <td>11</td>\n",
       "      <td>34.591818</td>\n",
       "    </tr>\n",
       "  </tbody>\n",
       "</table>\n",
       "</div>"
      ],
      "text/plain": [
       "                           FareTotal  Ridecount  AverageFare\n",
       "city         driver_count                                   \n",
       "Anitamouth   16               335.84          9    37.315556\n",
       "Campbellport 26               505.67         15    33.711333\n",
       "Carrollbury  4                366.06         10    36.606000\n",
       "Clarkstad    21               372.62         12    31.051667\n",
       "Conwaymouth  18               380.51         11    34.591818"
      ]
     },
     "execution_count": 11,
     "metadata": {},
     "output_type": "execute_result"
    }
   ],
   "source": [
    "city_fare_agg2 = city_fare_agg.loc[city_fare_agg['type']== 'Suburban', ['sum', 'count', 'Average']]\n",
    "city_fare_agg2 = city_fare_agg2.rename(columns={'sum': 'FareTotal', 'count': 'Ridecount', 'Average': 'AverageFare'})\n",
    "city_fare_agg2.head()"
   ]
  },
  {
   "cell_type": "code",
   "execution_count": 12,
   "metadata": {},
   "outputs": [
    {
     "data": {
      "text/html": [
       "<div>\n",
       "<style>\n",
       "    .dataframe thead tr:only-child th {\n",
       "        text-align: right;\n",
       "    }\n",
       "\n",
       "    .dataframe thead th {\n",
       "        text-align: left;\n",
       "    }\n",
       "\n",
       "    .dataframe tbody tr th {\n",
       "        vertical-align: top;\n",
       "    }\n",
       "</style>\n",
       "<table border=\"1\" class=\"dataframe\">\n",
       "  <thead>\n",
       "    <tr style=\"text-align: right;\">\n",
       "      <th></th>\n",
       "      <th>city</th>\n",
       "      <th>driver_count</th>\n",
       "      <th>FareTotal</th>\n",
       "      <th>Ridecount</th>\n",
       "      <th>AverageFare</th>\n",
       "    </tr>\n",
       "  </thead>\n",
       "  <tbody>\n",
       "    <tr>\n",
       "      <th>0</th>\n",
       "      <td>Anitamouth</td>\n",
       "      <td>16</td>\n",
       "      <td>335.84</td>\n",
       "      <td>9</td>\n",
       "      <td>37.315556</td>\n",
       "    </tr>\n",
       "    <tr>\n",
       "      <th>1</th>\n",
       "      <td>Campbellport</td>\n",
       "      <td>26</td>\n",
       "      <td>505.67</td>\n",
       "      <td>15</td>\n",
       "      <td>33.711333</td>\n",
       "    </tr>\n",
       "    <tr>\n",
       "      <th>2</th>\n",
       "      <td>Carrollbury</td>\n",
       "      <td>4</td>\n",
       "      <td>366.06</td>\n",
       "      <td>10</td>\n",
       "      <td>36.606000</td>\n",
       "    </tr>\n",
       "    <tr>\n",
       "      <th>3</th>\n",
       "      <td>Clarkstad</td>\n",
       "      <td>21</td>\n",
       "      <td>372.62</td>\n",
       "      <td>12</td>\n",
       "      <td>31.051667</td>\n",
       "    </tr>\n",
       "    <tr>\n",
       "      <th>4</th>\n",
       "      <td>Conwaymouth</td>\n",
       "      <td>18</td>\n",
       "      <td>380.51</td>\n",
       "      <td>11</td>\n",
       "      <td>34.591818</td>\n",
       "    </tr>\n",
       "  </tbody>\n",
       "</table>\n",
       "</div>"
      ],
      "text/plain": [
       "           city  driver_count  FareTotal  Ridecount  AverageFare\n",
       "0    Anitamouth            16     335.84          9    37.315556\n",
       "1  Campbellport            26     505.67         15    33.711333\n",
       "2   Carrollbury             4     366.06         10    36.606000\n",
       "3     Clarkstad            21     372.62         12    31.051667\n",
       "4   Conwaymouth            18     380.51         11    34.591818"
      ]
     },
     "execution_count": 12,
     "metadata": {},
     "output_type": "execute_result"
    }
   ],
   "source": [
    "sort_data1 = city_fare_agg2.reset_index()\n",
    "sort_data1.head()\n"
   ]
  },
  {
   "cell_type": "code",
   "execution_count": 13,
   "metadata": {},
   "outputs": [
    {
     "data": {
      "text/plain": [
       "FareTotal      20335.690000\n",
       "Ridecount        657.000000\n",
       "AverageFare     1300.433953\n",
       "dtype: float64"
      ]
     },
     "execution_count": 13,
     "metadata": {},
     "output_type": "execute_result"
    }
   ],
   "source": [
    "city_fare_agg_pie2 = city_fare_agg2.sum()\n",
    "city_fare_agg_pie2"
   ]
  },
  {
   "cell_type": "code",
   "execution_count": 14,
   "metadata": {},
   "outputs": [
    {
     "data": {
      "text/html": [
       "<div>\n",
       "<style>\n",
       "    .dataframe thead tr:only-child th {\n",
       "        text-align: right;\n",
       "    }\n",
       "\n",
       "    .dataframe thead th {\n",
       "        text-align: left;\n",
       "    }\n",
       "\n",
       "    .dataframe tbody tr th {\n",
       "        vertical-align: top;\n",
       "    }\n",
       "</style>\n",
       "<table border=\"1\" class=\"dataframe\">\n",
       "  <thead>\n",
       "    <tr style=\"text-align: right;\">\n",
       "      <th></th>\n",
       "      <th></th>\n",
       "      <th>FareTotal</th>\n",
       "      <th>Ridecount</th>\n",
       "      <th>AverageFare</th>\n",
       "    </tr>\n",
       "    <tr>\n",
       "      <th>city</th>\n",
       "      <th>driver_count</th>\n",
       "      <th></th>\n",
       "      <th></th>\n",
       "      <th></th>\n",
       "    </tr>\n",
       "  </thead>\n",
       "  <tbody>\n",
       "    <tr>\n",
       "      <th>East Leslie</th>\n",
       "      <th>9</th>\n",
       "      <td>370.27</td>\n",
       "      <td>11</td>\n",
       "      <td>33.660909</td>\n",
       "    </tr>\n",
       "    <tr>\n",
       "      <th>East Stephen</th>\n",
       "      <th>6</th>\n",
       "      <td>390.53</td>\n",
       "      <td>10</td>\n",
       "      <td>39.053000</td>\n",
       "    </tr>\n",
       "    <tr>\n",
       "      <th>East Troybury</th>\n",
       "      <th>3</th>\n",
       "      <td>232.71</td>\n",
       "      <td>7</td>\n",
       "      <td>33.244286</td>\n",
       "    </tr>\n",
       "    <tr>\n",
       "      <th>Erikport</th>\n",
       "      <th>3</th>\n",
       "      <td>240.35</td>\n",
       "      <td>8</td>\n",
       "      <td>30.043750</td>\n",
       "    </tr>\n",
       "    <tr>\n",
       "      <th>Hernandezshire</th>\n",
       "      <th>10</th>\n",
       "      <td>288.02</td>\n",
       "      <td>9</td>\n",
       "      <td>32.002222</td>\n",
       "    </tr>\n",
       "  </tbody>\n",
       "</table>\n",
       "</div>"
      ],
      "text/plain": [
       "                             FareTotal  Ridecount  AverageFare\n",
       "city           driver_count                                   \n",
       "East Leslie    9                370.27         11    33.660909\n",
       "East Stephen   6                390.53         10    39.053000\n",
       "East Troybury  3                232.71          7    33.244286\n",
       "Erikport       3                240.35          8    30.043750\n",
       "Hernandezshire 10               288.02          9    32.002222"
      ]
     },
     "execution_count": 14,
     "metadata": {},
     "output_type": "execute_result"
    }
   ],
   "source": [
    "city_fare_agg3 = city_fare_agg.loc[city_fare_agg['type']== 'Rural', ['sum', 'count', 'Average']]\n",
    "city_fare_agg3 = city_fare_agg3.rename(columns={'sum': 'FareTotal', 'count': 'Ridecount', 'Average': 'AverageFare'})\n",
    "city_fare_agg3.head()"
   ]
  },
  {
   "cell_type": "code",
   "execution_count": 15,
   "metadata": {},
   "outputs": [
    {
     "data": {
      "text/html": [
       "<div>\n",
       "<style>\n",
       "    .dataframe thead tr:only-child th {\n",
       "        text-align: right;\n",
       "    }\n",
       "\n",
       "    .dataframe thead th {\n",
       "        text-align: left;\n",
       "    }\n",
       "\n",
       "    .dataframe tbody tr th {\n",
       "        vertical-align: top;\n",
       "    }\n",
       "</style>\n",
       "<table border=\"1\" class=\"dataframe\">\n",
       "  <thead>\n",
       "    <tr style=\"text-align: right;\">\n",
       "      <th></th>\n",
       "      <th>city</th>\n",
       "      <th>driver_count</th>\n",
       "      <th>FareTotal</th>\n",
       "      <th>Ridecount</th>\n",
       "      <th>AverageFare</th>\n",
       "    </tr>\n",
       "  </thead>\n",
       "  <tbody>\n",
       "    <tr>\n",
       "      <th>0</th>\n",
       "      <td>East Leslie</td>\n",
       "      <td>9</td>\n",
       "      <td>370.27</td>\n",
       "      <td>11</td>\n",
       "      <td>33.660909</td>\n",
       "    </tr>\n",
       "    <tr>\n",
       "      <th>1</th>\n",
       "      <td>East Stephen</td>\n",
       "      <td>6</td>\n",
       "      <td>390.53</td>\n",
       "      <td>10</td>\n",
       "      <td>39.053000</td>\n",
       "    </tr>\n",
       "    <tr>\n",
       "      <th>2</th>\n",
       "      <td>East Troybury</td>\n",
       "      <td>3</td>\n",
       "      <td>232.71</td>\n",
       "      <td>7</td>\n",
       "      <td>33.244286</td>\n",
       "    </tr>\n",
       "    <tr>\n",
       "      <th>3</th>\n",
       "      <td>Erikport</td>\n",
       "      <td>3</td>\n",
       "      <td>240.35</td>\n",
       "      <td>8</td>\n",
       "      <td>30.043750</td>\n",
       "    </tr>\n",
       "    <tr>\n",
       "      <th>4</th>\n",
       "      <td>Hernandezshire</td>\n",
       "      <td>10</td>\n",
       "      <td>288.02</td>\n",
       "      <td>9</td>\n",
       "      <td>32.002222</td>\n",
       "    </tr>\n",
       "  </tbody>\n",
       "</table>\n",
       "</div>"
      ],
      "text/plain": [
       "             city  driver_count  FareTotal  Ridecount  AverageFare\n",
       "0     East Leslie             9     370.27         11    33.660909\n",
       "1    East Stephen             6     390.53         10    39.053000\n",
       "2   East Troybury             3     232.71          7    33.244286\n",
       "3        Erikport             3     240.35          8    30.043750\n",
       "4  Hernandezshire            10     288.02          9    32.002222"
      ]
     },
     "execution_count": 15,
     "metadata": {},
     "output_type": "execute_result"
    }
   ],
   "source": [
    "sort_data2 = city_fare_agg3.reset_index()\n",
    "sort_data2.head()"
   ]
  },
  {
   "cell_type": "code",
   "execution_count": 16,
   "metadata": {},
   "outputs": [
    {
     "data": {
      "text/plain": [
       "FareTotal      20335.690000\n",
       "Ridecount        657.000000\n",
       "AverageFare     1300.433953\n",
       "dtype: float64"
      ]
     },
     "execution_count": 16,
     "metadata": {},
     "output_type": "execute_result"
    }
   ],
   "source": [
    "city_fare_agg_pie3 = city_fare_agg2.sum()\n",
    "city_fare_agg_pie3"
   ]
  },
  {
   "cell_type": "code",
   "execution_count": 17,
   "metadata": {},
   "outputs": [
    {
     "data": {
      "image/png": "[encoded data removed]",
      "text/plain": [
       "<matplotlib.figure.Figure at 0x10cbf54e0>"
      ]
     },
     "metadata": {},
     "output_type": "display_data"
    }
   ],
   "source": [
    "labels = [\"Urban\", \"Suburban\", \"Rural\"]\n",
    "\n",
    "# The values of each section of the pie chart\n",
    "sizes = [40078.34, 20335.69, 4255.09]\n",
    "\n",
    "# The colors of each section of the pie chart\n",
    "colors = [\"coral\", \"skyblue\", \"gold\"]\n",
    "\n",
    "# Tells matplotlib to separate the \"Python\" section\n",
    "# from the others\n",
    "explode = [0.1, 0, 0]\n",
    "plt.pie(sizes, labels=labels, colors=colors, explode=explode,\n",
    "        autopct=\"{0:1.1f}%\".format, shadow=True, startangle=140)\n",
    "plt.axis(\"equal\")\n",
    "plt.title(\"% Total Fares by city type\")\n",
    "plt.show()"
   ]
  },
  {
   "cell_type": "code",
   "execution_count": 18,
   "metadata": {},
   "outputs": [
    {
     "data": {
      "image/png": "[encoded data removed]",
      "text/plain": [
       "<matplotlib.figure.Figure at 0x1100c6fd0>"
      ]
     },
     "metadata": {},
     "output_type": "display_data"
    }
   ],
   "source": [
    "labels = [\"Urban\", \"Suburban\", \"Rural\"]\n",
    "\n",
    "# The values of each section of the pie chart\n",
    "sizes = [1625, 625, 125]\n",
    "\n",
    "# The colors of each section of the pie chart\n",
    "colors = [\"coral\", \"skyblue\", \"gold\"]\n",
    "\n",
    "# Tells matplotlib to separate the \"Python\" section\n",
    "# from the others\n",
    "explode = [0.1, 0, 0]\n",
    "plt.pie(sizes, labels=labels, colors=colors, explode=explode,\n",
    "        autopct=\"{0:1.1f}%\".format, shadow=True, startangle=140)\n",
    "plt.axis(\"equal\")\n",
    "plt.title(\"% Total Rides per city type\")\n",
    "plt.show()"
   ]
  },
  {
   "cell_type": "code",
   "execution_count": 19,
   "metadata": {},
   "outputs": [
    {
     "data": {
      "image/png": "[encoded data removed]",
      "text/plain": [
       "<matplotlib.figure.Figure at 0x10cbe74a8>"
      ]
     },
     "metadata": {},
     "output_type": "display_data"
    }
   ],
   "source": [
    "labels = [\"Urban\", \"Suburban\", \"Rural\"]\n",
    "\n",
    "# The values of each section of the pie chart\n",
    "sizes = [64501, 9730, 727]\n",
    "\n",
    "# The colors of each section of the pie chart\n",
    "colors = [\"coral\", \"skyblue\", \"gold\"]\n",
    "\n",
    "# Tells matplotlib to separate the \"Python\" section\n",
    "# from the others\n",
    "explode = [0.1, 0, 0]\n",
    "plt.pie(sizes, labels=labels, colors=colors, explode=explode,\n",
    "        autopct=\"{0:1.1f}%\".format, shadow=True, startangle=140)\n",
    "plt.axis(\"equal\")\n",
    "plt.title(\"% of Total Driver by city type\")\n",
    "plt.show()"
   ]
  },
  {
   "cell_type": "code",
   "execution_count": 20,
   "metadata": {},
   "outputs": [
    {
     "data": {
      "image/png": "[encoded data removed]",
      "text/plain": [
       "<matplotlib.figure.Figure at 0x110216da0>"
      ]
     },
     "metadata": {},
     "output_type": "display_data"
    }
   ],
   "source": [
    "plt.scatter(city_fare_agg1.Ridecount, city_fare_agg1.AverageFare, s=(sort_data.driver_count)*2, marker=\"o\",\n",
    "            facecolors=\"coral\", label =\"Urban\", alpha = 0.5, linewidths = '1', edgecolor = 'black')\n",
    "plt.scatter(city_fare_agg2.Ridecount, city_fare_agg2.AverageFare, s=(sort_data1.driver_count)*3, marker=\"o\",\n",
    "            facecolors=\"skyblue\", label =\"Suburban\", alpha = 0.4, linewidths = '1', edgecolor = 'black')\n",
    "plt.scatter(city_fare_agg3.Ridecount, city_fare_agg3.AverageFare, s=(sort_data2.driver_count)*3, marker=\"o\",\n",
    "            facecolors=\"gold\", label =\"Rural\", alpha = 0.3, linewidths = '1', edgecolor = 'black')\n",
    "plt.legend(loc='best')\n",
    "plt.xlabel(\"Total rides number of rides (per city)\")\n",
    "plt.ylabel(\"Average Fare($)\")\n",
    "plt.title(\"Pyber Ride Sharing Data(2016)\")\n",
    "plt.show()"
   ]
  },
  {
   "cell_type": "code",
   "execution_count": null,
   "metadata": {
    "collapsed": true
   },
   "outputs": [],
   "source": []
  },
  {
   "cell_type": "code",
   "execution_count": null,
   "metadata": {
    "collapsed": true
   },
   "outputs": [],
   "source": []
  }
 ],
 "metadata": {
  "kernelspec": {
   "display_name": "Python 3",
   "language": "python",
   "name": "python3"
  },
  "language_info": {
   "codemirror_mode": {
    "name": "ipython",
    "version": 3
   },
   "file_extension": ".py",
   "mimetype": "text/x-python",
   "name": "python",
   "nbconvert_exporter": "python",
   "pygments_lexer": "ipython3",
   "version": "3.6.1"
  }
 },
 "nbformat": 4,
 "nbformat_minor": 2
}
